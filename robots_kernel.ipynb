{
 "cells": [
  {
   "cell_type": "code",
   "execution_count": 1,
   "metadata": {
    "ExecuteTime": {
     "end_time": "2019-03-31T02:45:39.743990Z",
     "start_time": "2019-03-31T02:45:39.284762Z"
    }
   },
   "outputs": [],
   "source": [
    "import numpy as np\n",
    "import pandas as pd\n",
    "import matplotlib\n",
    "%matplotlib inline\n",
    "import matplotlib.pyplot as plt\n",
    "plt.style.use('ggplot')"
   ]
  },
  {
   "cell_type": "markdown",
   "metadata": {},
   "source": [
    "## Import & Visualize"
   ]
  },
  {
   "cell_type": "code",
   "execution_count": 2,
   "metadata": {
    "ExecuteTime": {
     "end_time": "2019-03-31T02:45:41.789920Z",
     "start_time": "2019-03-31T02:45:39.745773Z"
    }
   },
   "outputs": [],
   "source": [
    "X_train = pd.read_csv('/Users/savage/Kaggle/robots/input/X_train.csv')\n",
    "y_train = pd.read_csv('/Users/savage/Kaggle/robots/input/y_train.csv')\n",
    "X_test = pd.read_csv('/Users/savage/Kaggle/robots/input/X_test.csv')"
   ]
  },
  {
   "cell_type": "code",
   "execution_count": 3,
   "metadata": {
    "ExecuteTime": {
     "end_time": "2019-03-31T02:45:41.796684Z",
     "start_time": "2019-03-31T02:45:41.791877Z"
    }
   },
   "outputs": [
    {
     "name": "stdout",
     "output_type": "stream",
     "text": [
      "X_train:  (487680, 13)\n",
      "y_train:  (3810, 3)\n",
      "X_test:  (488448, 13)\n"
     ]
    }
   ],
   "source": [
    "print('X_train: ', X_train.shape)\n",
    "print('y_train: ', y_train.shape)\n",
    "print('X_test: ', X_test.shape)"
   ]
  },
  {
   "cell_type": "code",
   "execution_count": 4,
   "metadata": {
    "ExecuteTime": {
     "end_time": "2019-03-31T02:45:41.817613Z",
     "start_time": "2019-03-31T02:45:41.798431Z"
    }
   },
   "outputs": [
    {
     "data": {
      "text/html": [
       "<div>\n",
       "<style scoped>\n",
       "    .dataframe tbody tr th:only-of-type {\n",
       "        vertical-align: middle;\n",
       "    }\n",
       "\n",
       "    .dataframe tbody tr th {\n",
       "        vertical-align: top;\n",
       "    }\n",
       "\n",
       "    .dataframe thead th {\n",
       "        text-align: right;\n",
       "    }\n",
       "</style>\n",
       "<table border=\"1\" class=\"dataframe\">\n",
       "  <thead>\n",
       "    <tr style=\"text-align: right;\">\n",
       "      <th></th>\n",
       "      <th>row_id</th>\n",
       "      <th>series_id</th>\n",
       "      <th>measurement_number</th>\n",
       "      <th>orientation_X</th>\n",
       "      <th>orientation_Y</th>\n",
       "      <th>orientation_Z</th>\n",
       "      <th>orientation_W</th>\n",
       "      <th>angular_velocity_X</th>\n",
       "      <th>angular_velocity_Y</th>\n",
       "      <th>angular_velocity_Z</th>\n",
       "      <th>linear_acceleration_X</th>\n",
       "      <th>linear_acceleration_Y</th>\n",
       "      <th>linear_acceleration_Z</th>\n",
       "    </tr>\n",
       "  </thead>\n",
       "  <tbody>\n",
       "    <tr>\n",
       "      <th>0</th>\n",
       "      <td>0_0</td>\n",
       "      <td>0</td>\n",
       "      <td>0</td>\n",
       "      <td>-0.75853</td>\n",
       "      <td>-0.63435</td>\n",
       "      <td>-0.10488</td>\n",
       "      <td>-0.10597</td>\n",
       "      <td>0.107650</td>\n",
       "      <td>0.017561</td>\n",
       "      <td>0.000767</td>\n",
       "      <td>-0.74857</td>\n",
       "      <td>2.1030</td>\n",
       "      <td>-9.7532</td>\n",
       "    </tr>\n",
       "    <tr>\n",
       "      <th>1</th>\n",
       "      <td>0_1</td>\n",
       "      <td>0</td>\n",
       "      <td>1</td>\n",
       "      <td>-0.75853</td>\n",
       "      <td>-0.63434</td>\n",
       "      <td>-0.10490</td>\n",
       "      <td>-0.10600</td>\n",
       "      <td>0.067851</td>\n",
       "      <td>0.029939</td>\n",
       "      <td>0.003385</td>\n",
       "      <td>0.33995</td>\n",
       "      <td>1.5064</td>\n",
       "      <td>-9.4128</td>\n",
       "    </tr>\n",
       "    <tr>\n",
       "      <th>2</th>\n",
       "      <td>0_2</td>\n",
       "      <td>0</td>\n",
       "      <td>2</td>\n",
       "      <td>-0.75853</td>\n",
       "      <td>-0.63435</td>\n",
       "      <td>-0.10492</td>\n",
       "      <td>-0.10597</td>\n",
       "      <td>0.007275</td>\n",
       "      <td>0.028934</td>\n",
       "      <td>-0.005978</td>\n",
       "      <td>-0.26429</td>\n",
       "      <td>1.5922</td>\n",
       "      <td>-8.7267</td>\n",
       "    </tr>\n",
       "    <tr>\n",
       "      <th>3</th>\n",
       "      <td>0_3</td>\n",
       "      <td>0</td>\n",
       "      <td>3</td>\n",
       "      <td>-0.75852</td>\n",
       "      <td>-0.63436</td>\n",
       "      <td>-0.10495</td>\n",
       "      <td>-0.10597</td>\n",
       "      <td>-0.013053</td>\n",
       "      <td>0.019448</td>\n",
       "      <td>-0.008974</td>\n",
       "      <td>0.42684</td>\n",
       "      <td>1.0993</td>\n",
       "      <td>-10.0960</td>\n",
       "    </tr>\n",
       "    <tr>\n",
       "      <th>4</th>\n",
       "      <td>0_4</td>\n",
       "      <td>0</td>\n",
       "      <td>4</td>\n",
       "      <td>-0.75852</td>\n",
       "      <td>-0.63435</td>\n",
       "      <td>-0.10495</td>\n",
       "      <td>-0.10596</td>\n",
       "      <td>0.005135</td>\n",
       "      <td>0.007652</td>\n",
       "      <td>0.005245</td>\n",
       "      <td>-0.50969</td>\n",
       "      <td>1.4689</td>\n",
       "      <td>-10.4410</td>\n",
       "    </tr>\n",
       "  </tbody>\n",
       "</table>\n",
       "</div>"
      ],
      "text/plain": [
       "  row_id  series_id  measurement_number  orientation_X  orientation_Y  \\\n",
       "0    0_0          0                   0       -0.75853       -0.63435   \n",
       "1    0_1          0                   1       -0.75853       -0.63434   \n",
       "2    0_2          0                   2       -0.75853       -0.63435   \n",
       "3    0_3          0                   3       -0.75852       -0.63436   \n",
       "4    0_4          0                   4       -0.75852       -0.63435   \n",
       "\n",
       "   orientation_Z  orientation_W  angular_velocity_X  angular_velocity_Y  \\\n",
       "0       -0.10488       -0.10597            0.107650            0.017561   \n",
       "1       -0.10490       -0.10600            0.067851            0.029939   \n",
       "2       -0.10492       -0.10597            0.007275            0.028934   \n",
       "3       -0.10495       -0.10597           -0.013053            0.019448   \n",
       "4       -0.10495       -0.10596            0.005135            0.007652   \n",
       "\n",
       "   angular_velocity_Z  linear_acceleration_X  linear_acceleration_Y  \\\n",
       "0            0.000767               -0.74857                 2.1030   \n",
       "1            0.003385                0.33995                 1.5064   \n",
       "2           -0.005978               -0.26429                 1.5922   \n",
       "3           -0.008974                0.42684                 1.0993   \n",
       "4            0.005245               -0.50969                 1.4689   \n",
       "\n",
       "   linear_acceleration_Z  \n",
       "0                -9.7532  \n",
       "1                -9.4128  \n",
       "2                -8.7267  \n",
       "3               -10.0960  \n",
       "4               -10.4410  "
      ]
     },
     "execution_count": 4,
     "metadata": {},
     "output_type": "execute_result"
    }
   ],
   "source": [
    "X_train.head()"
   ]
  },
  {
   "cell_type": "code",
   "execution_count": 5,
   "metadata": {
    "ExecuteTime": {
     "end_time": "2019-03-31T02:45:41.827941Z",
     "start_time": "2019-03-31T02:45:41.819672Z"
    }
   },
   "outputs": [
    {
     "data": {
      "text/html": [
       "<div>\n",
       "<style scoped>\n",
       "    .dataframe tbody tr th:only-of-type {\n",
       "        vertical-align: middle;\n",
       "    }\n",
       "\n",
       "    .dataframe tbody tr th {\n",
       "        vertical-align: top;\n",
       "    }\n",
       "\n",
       "    .dataframe thead th {\n",
       "        text-align: right;\n",
       "    }\n",
       "</style>\n",
       "<table border=\"1\" class=\"dataframe\">\n",
       "  <thead>\n",
       "    <tr style=\"text-align: right;\">\n",
       "      <th></th>\n",
       "      <th>series_id</th>\n",
       "      <th>group_id</th>\n",
       "      <th>surface</th>\n",
       "    </tr>\n",
       "  </thead>\n",
       "  <tbody>\n",
       "    <tr>\n",
       "      <th>0</th>\n",
       "      <td>0</td>\n",
       "      <td>13</td>\n",
       "      <td>fine_concrete</td>\n",
       "    </tr>\n",
       "    <tr>\n",
       "      <th>1</th>\n",
       "      <td>1</td>\n",
       "      <td>31</td>\n",
       "      <td>concrete</td>\n",
       "    </tr>\n",
       "    <tr>\n",
       "      <th>2</th>\n",
       "      <td>2</td>\n",
       "      <td>20</td>\n",
       "      <td>concrete</td>\n",
       "    </tr>\n",
       "    <tr>\n",
       "      <th>3</th>\n",
       "      <td>3</td>\n",
       "      <td>31</td>\n",
       "      <td>concrete</td>\n",
       "    </tr>\n",
       "    <tr>\n",
       "      <th>4</th>\n",
       "      <td>4</td>\n",
       "      <td>22</td>\n",
       "      <td>soft_tiles</td>\n",
       "    </tr>\n",
       "  </tbody>\n",
       "</table>\n",
       "</div>"
      ],
      "text/plain": [
       "   series_id  group_id        surface\n",
       "0          0        13  fine_concrete\n",
       "1          1        31       concrete\n",
       "2          2        20       concrete\n",
       "3          3        31       concrete\n",
       "4          4        22     soft_tiles"
      ]
     },
     "execution_count": 5,
     "metadata": {},
     "output_type": "execute_result"
    }
   ],
   "source": [
    "y_train.head()"
   ]
  },
  {
   "cell_type": "code",
   "execution_count": 6,
   "metadata": {
    "ExecuteTime": {
     "end_time": "2019-03-31T02:45:42.075209Z",
     "start_time": "2019-03-31T02:45:41.830601Z"
    }
   },
   "outputs": [
    {
     "name": "stdout",
     "output_type": "stream",
     "text": [
      "0\n",
      "0\n",
      "0\n"
     ]
    }
   ],
   "source": [
    "print(X_train.isnull().sum().sum())\n",
    "print(y_train.isnull().sum().sum())\n",
    "print(X_test.isnull().sum().sum())"
   ]
  },
  {
   "cell_type": "code",
   "execution_count": 7,
   "metadata": {
    "ExecuteTime": {
     "end_time": "2019-03-31T02:45:42.420682Z",
     "start_time": "2019-03-31T02:45:42.077999Z"
    }
   },
   "outputs": [
    {
     "data": {
      "text/html": [
       "<div>\n",
       "<style scoped>\n",
       "    .dataframe tbody tr th:only-of-type {\n",
       "        vertical-align: middle;\n",
       "    }\n",
       "\n",
       "    .dataframe tbody tr th {\n",
       "        vertical-align: top;\n",
       "    }\n",
       "\n",
       "    .dataframe thead th {\n",
       "        text-align: right;\n",
       "    }\n",
       "</style>\n",
       "<table border=\"1\" class=\"dataframe\">\n",
       "  <thead>\n",
       "    <tr style=\"text-align: right;\">\n",
       "      <th></th>\n",
       "      <th>series_id</th>\n",
       "      <th>measurement_number</th>\n",
       "      <th>orientation_X</th>\n",
       "      <th>orientation_Y</th>\n",
       "      <th>orientation_Z</th>\n",
       "      <th>orientation_W</th>\n",
       "      <th>angular_velocity_X</th>\n",
       "      <th>angular_velocity_Y</th>\n",
       "      <th>angular_velocity_Z</th>\n",
       "      <th>linear_acceleration_X</th>\n",
       "      <th>linear_acceleration_Y</th>\n",
       "      <th>linear_acceleration_Z</th>\n",
       "    </tr>\n",
       "  </thead>\n",
       "  <tbody>\n",
       "    <tr>\n",
       "      <th>count</th>\n",
       "      <td>487680.000000</td>\n",
       "      <td>487680.000000</td>\n",
       "      <td>487680.000000</td>\n",
       "      <td>487680.000000</td>\n",
       "      <td>487680.000000</td>\n",
       "      <td>487680.000000</td>\n",
       "      <td>487680.000000</td>\n",
       "      <td>487680.000000</td>\n",
       "      <td>487680.000000</td>\n",
       "      <td>487680.000000</td>\n",
       "      <td>487680.000000</td>\n",
       "      <td>487680.000000</td>\n",
       "    </tr>\n",
       "    <tr>\n",
       "      <th>mean</th>\n",
       "      <td>1904.500000</td>\n",
       "      <td>63.500000</td>\n",
       "      <td>-0.018050</td>\n",
       "      <td>0.075062</td>\n",
       "      <td>0.012458</td>\n",
       "      <td>-0.003804</td>\n",
       "      <td>0.000178</td>\n",
       "      <td>0.008338</td>\n",
       "      <td>-0.019184</td>\n",
       "      <td>0.129281</td>\n",
       "      <td>2.886468</td>\n",
       "      <td>-9.364886</td>\n",
       "    </tr>\n",
       "    <tr>\n",
       "      <th>std</th>\n",
       "      <td>1099.853353</td>\n",
       "      <td>36.949327</td>\n",
       "      <td>0.685696</td>\n",
       "      <td>0.708226</td>\n",
       "      <td>0.105972</td>\n",
       "      <td>0.104299</td>\n",
       "      <td>0.117764</td>\n",
       "      <td>0.088677</td>\n",
       "      <td>0.229153</td>\n",
       "      <td>1.870600</td>\n",
       "      <td>2.140067</td>\n",
       "      <td>2.845341</td>\n",
       "    </tr>\n",
       "    <tr>\n",
       "      <th>min</th>\n",
       "      <td>0.000000</td>\n",
       "      <td>0.000000</td>\n",
       "      <td>-0.989100</td>\n",
       "      <td>-0.989650</td>\n",
       "      <td>-0.162830</td>\n",
       "      <td>-0.156620</td>\n",
       "      <td>-2.371000</td>\n",
       "      <td>-0.927860</td>\n",
       "      <td>-1.268800</td>\n",
       "      <td>-36.067000</td>\n",
       "      <td>-121.490000</td>\n",
       "      <td>-75.386000</td>\n",
       "    </tr>\n",
       "    <tr>\n",
       "      <th>25%</th>\n",
       "      <td>952.000000</td>\n",
       "      <td>31.750000</td>\n",
       "      <td>-0.705120</td>\n",
       "      <td>-0.688980</td>\n",
       "      <td>-0.089466</td>\n",
       "      <td>-0.106060</td>\n",
       "      <td>-0.040752</td>\n",
       "      <td>-0.033191</td>\n",
       "      <td>-0.090743</td>\n",
       "      <td>-0.530833</td>\n",
       "      <td>1.957900</td>\n",
       "      <td>-10.193000</td>\n",
       "    </tr>\n",
       "    <tr>\n",
       "      <th>50%</th>\n",
       "      <td>1904.500000</td>\n",
       "      <td>63.500000</td>\n",
       "      <td>-0.105960</td>\n",
       "      <td>0.237855</td>\n",
       "      <td>0.031949</td>\n",
       "      <td>-0.018704</td>\n",
       "      <td>0.000084</td>\n",
       "      <td>0.005412</td>\n",
       "      <td>-0.005335</td>\n",
       "      <td>0.124980</td>\n",
       "      <td>2.879600</td>\n",
       "      <td>-9.365300</td>\n",
       "    </tr>\n",
       "    <tr>\n",
       "      <th>75%</th>\n",
       "      <td>2857.000000</td>\n",
       "      <td>95.250000</td>\n",
       "      <td>0.651803</td>\n",
       "      <td>0.809550</td>\n",
       "      <td>0.122870</td>\n",
       "      <td>0.097215</td>\n",
       "      <td>0.040527</td>\n",
       "      <td>0.048068</td>\n",
       "      <td>0.064604</td>\n",
       "      <td>0.792263</td>\n",
       "      <td>3.798800</td>\n",
       "      <td>-8.522700</td>\n",
       "    </tr>\n",
       "    <tr>\n",
       "      <th>max</th>\n",
       "      <td>3809.000000</td>\n",
       "      <td>127.000000</td>\n",
       "      <td>0.989100</td>\n",
       "      <td>0.988980</td>\n",
       "      <td>0.155710</td>\n",
       "      <td>0.154770</td>\n",
       "      <td>2.282200</td>\n",
       "      <td>1.079100</td>\n",
       "      <td>1.387300</td>\n",
       "      <td>36.797000</td>\n",
       "      <td>73.008000</td>\n",
       "      <td>65.839000</td>\n",
       "    </tr>\n",
       "  </tbody>\n",
       "</table>\n",
       "</div>"
      ],
      "text/plain": [
       "           series_id  measurement_number  orientation_X  orientation_Y  \\\n",
       "count  487680.000000       487680.000000  487680.000000  487680.000000   \n",
       "mean     1904.500000           63.500000      -0.018050       0.075062   \n",
       "std      1099.853353           36.949327       0.685696       0.708226   \n",
       "min         0.000000            0.000000      -0.989100      -0.989650   \n",
       "25%       952.000000           31.750000      -0.705120      -0.688980   \n",
       "50%      1904.500000           63.500000      -0.105960       0.237855   \n",
       "75%      2857.000000           95.250000       0.651803       0.809550   \n",
       "max      3809.000000          127.000000       0.989100       0.988980   \n",
       "\n",
       "       orientation_Z  orientation_W  angular_velocity_X  angular_velocity_Y  \\\n",
       "count  487680.000000  487680.000000       487680.000000       487680.000000   \n",
       "mean        0.012458      -0.003804            0.000178            0.008338   \n",
       "std         0.105972       0.104299            0.117764            0.088677   \n",
       "min        -0.162830      -0.156620           -2.371000           -0.927860   \n",
       "25%        -0.089466      -0.106060           -0.040752           -0.033191   \n",
       "50%         0.031949      -0.018704            0.000084            0.005412   \n",
       "75%         0.122870       0.097215            0.040527            0.048068   \n",
       "max         0.155710       0.154770            2.282200            1.079100   \n",
       "\n",
       "       angular_velocity_Z  linear_acceleration_X  linear_acceleration_Y  \\\n",
       "count       487680.000000          487680.000000          487680.000000   \n",
       "mean            -0.019184               0.129281               2.886468   \n",
       "std              0.229153               1.870600               2.140067   \n",
       "min             -1.268800             -36.067000            -121.490000   \n",
       "25%             -0.090743              -0.530833               1.957900   \n",
       "50%             -0.005335               0.124980               2.879600   \n",
       "75%              0.064604               0.792263               3.798800   \n",
       "max              1.387300              36.797000              73.008000   \n",
       "\n",
       "       linear_acceleration_Z  \n",
       "count          487680.000000  \n",
       "mean               -9.364886  \n",
       "std                 2.845341  \n",
       "min               -75.386000  \n",
       "25%               -10.193000  \n",
       "50%                -9.365300  \n",
       "75%                -8.522700  \n",
       "max                65.839000  "
      ]
     },
     "execution_count": 7,
     "metadata": {},
     "output_type": "execute_result"
    }
   ],
   "source": [
    "X_train.describe()"
   ]
  },
  {
   "cell_type": "code",
   "execution_count": 8,
   "metadata": {
    "ExecuteTime": {
     "end_time": "2019-03-31T02:45:42.438268Z",
     "start_time": "2019-03-31T02:45:42.422660Z"
    }
   },
   "outputs": [
    {
     "data": {
      "text/html": [
       "<div>\n",
       "<style scoped>\n",
       "    .dataframe tbody tr th:only-of-type {\n",
       "        vertical-align: middle;\n",
       "    }\n",
       "\n",
       "    .dataframe tbody tr th {\n",
       "        vertical-align: top;\n",
       "    }\n",
       "\n",
       "    .dataframe thead th {\n",
       "        text-align: right;\n",
       "    }\n",
       "</style>\n",
       "<table border=\"1\" class=\"dataframe\">\n",
       "  <thead>\n",
       "    <tr style=\"text-align: right;\">\n",
       "      <th></th>\n",
       "      <th>series_id</th>\n",
       "      <th>group_id</th>\n",
       "    </tr>\n",
       "  </thead>\n",
       "  <tbody>\n",
       "    <tr>\n",
       "      <th>count</th>\n",
       "      <td>3810.000000</td>\n",
       "      <td>3810.000000</td>\n",
       "    </tr>\n",
       "    <tr>\n",
       "      <th>mean</th>\n",
       "      <td>1904.500000</td>\n",
       "      <td>37.601312</td>\n",
       "    </tr>\n",
       "    <tr>\n",
       "      <th>std</th>\n",
       "      <td>1099.996591</td>\n",
       "      <td>20.982743</td>\n",
       "    </tr>\n",
       "    <tr>\n",
       "      <th>min</th>\n",
       "      <td>0.000000</td>\n",
       "      <td>0.000000</td>\n",
       "    </tr>\n",
       "    <tr>\n",
       "      <th>25%</th>\n",
       "      <td>952.250000</td>\n",
       "      <td>19.000000</td>\n",
       "    </tr>\n",
       "    <tr>\n",
       "      <th>50%</th>\n",
       "      <td>1904.500000</td>\n",
       "      <td>39.000000</td>\n",
       "    </tr>\n",
       "    <tr>\n",
       "      <th>75%</th>\n",
       "      <td>2856.750000</td>\n",
       "      <td>55.000000</td>\n",
       "    </tr>\n",
       "    <tr>\n",
       "      <th>max</th>\n",
       "      <td>3809.000000</td>\n",
       "      <td>72.000000</td>\n",
       "    </tr>\n",
       "  </tbody>\n",
       "</table>\n",
       "</div>"
      ],
      "text/plain": [
       "         series_id     group_id\n",
       "count  3810.000000  3810.000000\n",
       "mean   1904.500000    37.601312\n",
       "std    1099.996591    20.982743\n",
       "min       0.000000     0.000000\n",
       "25%     952.250000    19.000000\n",
       "50%    1904.500000    39.000000\n",
       "75%    2856.750000    55.000000\n",
       "max    3809.000000    72.000000"
      ]
     },
     "execution_count": 8,
     "metadata": {},
     "output_type": "execute_result"
    }
   ],
   "source": [
    "y_train.describe()"
   ]
  },
  {
   "cell_type": "code",
   "execution_count": 9,
   "metadata": {
    "ExecuteTime": {
     "end_time": "2019-03-31T02:45:42.729820Z",
     "start_time": "2019-03-31T02:45:42.440199Z"
    }
   },
   "outputs": [
    {
     "data": {
      "text/plain": [
       "Text(0,0.5,'counts')"
      ]
     },
     "execution_count": 9,
     "metadata": {},
     "output_type": "execute_result"
    },
    {
     "data": {
      "image/png": "[encoded data removed]",
      "text/plain": [
       "<Figure size 1080x288 with 1 Axes>"
      ]
     },
     "metadata": {},
     "output_type": "display_data"
    }
   ],
   "source": [
    "fig = plt.figure(figsize=(15, 4))\n",
    "y_train['surface'].value_counts().plot(kind='bar')\n",
    "plt.xlabel('surface types')\n",
    "plt.ylabel('counts')"
   ]
  },
  {
   "cell_type": "markdown",
   "metadata": {},
   "source": [
    "## Feature Engineering"
   ]
  },
  {
   "cell_type": "code",
   "execution_count": 10,
   "metadata": {
    "ExecuteTime": {
     "end_time": "2019-03-31T02:45:42.736405Z",
     "start_time": "2019-03-31T02:45:42.731976Z"
    }
   },
   "outputs": [],
   "source": [
    "def quaternion2euler(x, y, z, w):\n",
    "    import math\n",
    "    t0 = 2.0 * (w*x + y*z)\n",
    "    t1 = 1.0 - 2.0 * (x*x + y*y)\n",
    "    X = math.atan2(t0, t1)\n",
    "    \n",
    "    t2 = 2.0 * (w*y - z*x)\n",
    "    if t2 > 1.0:\n",
    "        t2 = 1.0\n",
    "    elif t2 < -1.0:\n",
    "        t2 = -1.0\n",
    "    Y = math.asin(t2)\n",
    "    \n",
    "    t3 = 2.0 * (w*z + x*y)\n",
    "    t4 = 1.0 - 2.0 * (y*y + z*z)\n",
    "    Z = math.atan2(t3, t4)\n",
    "    \n",
    "    return X, Y, Z"
   ]
  },
  {
   "cell_type": "code",
   "execution_count": 11,
   "metadata": {
    "ExecuteTime": {
     "end_time": "2019-03-31T02:45:42.741010Z",
     "start_time": "2019-03-31T02:45:42.738383Z"
    }
   },
   "outputs": [],
   "source": [
    "def f1(x):\n",
    "    return np.mean(np.diff(np.abs(np.diff(x))))\n",
    "    \n",
    "def f2(x):\n",
    "    return np.mean(np.abs(np.diff(x)))"
   ]
  },
  {
   "cell_type": "code",
   "execution_count": 12,
   "metadata": {
    "ExecuteTime": {
     "end_time": "2019-03-31T02:45:42.753776Z",
     "start_time": "2019-03-31T02:45:42.742948Z"
    }
   },
   "outputs": [],
   "source": [
    "def feature_engineering(df):\n",
    "    new = pd.DataFrame()\n",
    "    df['total_angular_velocity'] = (df['angular_velocity_X'] ** 2 +\n",
    "                                     df['angular_velocity_Y'] ** 2 +\n",
    "                                     df['angular_velocity_Z'] ** 2) ** 0.5\n",
    "    df['total_linear_acceleration'] = (df['linear_acceleration_X'] ** 2 +\n",
    "                                     df['linear_acceleration_Y'] ** 2 +\n",
    "                                     df['linear_acceleration_Z'] ** 2) ** 0.5\n",
    "    df['la_av_rate'] = df['total_linear_acceleration'] / df['total_angular_velocity']\n",
    "    \n",
    "    x = df['orientation_X'].tolist()\n",
    "    y = df['orientation_Y'].tolist()\n",
    "    z = df['orientation_Z'].tolist()\n",
    "    w = df['orientation_W'].tolist()\n",
    "    nx, ny, nz = [], [], []\n",
    "    for i in range(len(x)):\n",
    "        xx, yy, zz = quaternion2euler(x[i], y[i], z[i], w[i])\n",
    "        nx.append(xx)\n",
    "        ny.append(yy)\n",
    "        nz.append(zz)\n",
    "    df['euler_x'], df['euler_y'], df['euler_z'] = nx, ny, nz\n",
    "    df['total_angle'] = (df['euler_x'] ** 2 +\n",
    "                            df['euler_y'] ** 2 +\n",
    "                            df['euler_z'] ** 2) ** 0.5\n",
    "    df['ang_la_rate'] = df['total_angle'] / df['total_linear_acceleration']\n",
    "    df['ang_av_rate'] = df['total_angle'] / df['total_angular_velocity']\n",
    "    \n",
    "    for col in df.columns:\n",
    "        if col in ['row_id', 'series_id', 'measurement_number']:\n",
    "            continue\n",
    "        new[col + '_mean'] = df.groupby(['series_id'])[col].mean()\n",
    "        new[col + '_median'] = df.groupby(['series_id'])[col].median()\n",
    "        new[col + '_min'] = df.groupby(['series_id'])[col].min()\n",
    "        new[col + '_max'] = df.groupby(['series_id'])[col].max()\n",
    "        new[col + '_std'] = df.groupby(['series_id'])[col].std()\n",
    "        new[col + '_range'] = new[col + '_max'] - new[col + '_min']\n",
    "        new[col + '_max_min_rate'] = new[col + '_max'] / new[col + '_min']\n",
    "        \n",
    "        new[col + '_mean_abs_change'] = df.groupby(['series_id'])[col].apply(f2)\n",
    "        new[col + '_mean_change_of_abs_change'] = df.groupby(['series_id'])[col].apply(f1)\n",
    "        new[col + '_abs_max'] = df.groupby(['series_id'])[col].apply(lambda x: np.max(np.abs(x)))\n",
    "        new[col + '_abs_min'] = df.groupby(['series_id'])[col].apply(lambda x: np.min(np.abs(x)))\n",
    "        new[col + '_abs_avg'] = (new[col + '_abs_max'] + new[col + '_abs_min']) / 2\n",
    "        \n",
    "    return new"
   ]
  },
  {
   "cell_type": "code",
   "execution_count": 13,
   "metadata": {
    "ExecuteTime": {
     "end_time": "2019-03-31T02:47:08.525613Z",
     "start_time": "2019-03-31T02:45:42.755788Z"
    }
   },
   "outputs": [],
   "source": [
    "X_train = feature_engineering(X_train)\n",
    "X_test = feature_engineering(X_test)"
   ]
  },
  {
   "cell_type": "code",
   "execution_count": 14,
   "metadata": {
    "ExecuteTime": {
     "end_time": "2019-03-31T02:47:08.550667Z",
     "start_time": "2019-03-31T02:47:08.527862Z"
    }
   },
   "outputs": [
    {
     "data": {
      "text/html": [
       "<div>\n",
       "<style scoped>\n",
       "    .dataframe tbody tr th:only-of-type {\n",
       "        vertical-align: middle;\n",
       "    }\n",
       "\n",
       "    .dataframe tbody tr th {\n",
       "        vertical-align: top;\n",
       "    }\n",
       "\n",
       "    .dataframe thead th {\n",
       "        text-align: right;\n",
       "    }\n",
       "</style>\n",
       "<table border=\"1\" class=\"dataframe\">\n",
       "  <thead>\n",
       "    <tr style=\"text-align: right;\">\n",
       "      <th></th>\n",
       "      <th>orientation_X_mean</th>\n",
       "      <th>orientation_X_median</th>\n",
       "      <th>orientation_X_min</th>\n",
       "      <th>orientation_X_max</th>\n",
       "      <th>orientation_X_std</th>\n",
       "      <th>orientation_X_range</th>\n",
       "      <th>orientation_X_max_min_rate</th>\n",
       "      <th>orientation_X_mean_abs_change</th>\n",
       "      <th>orientation_X_mean_change_of_abs_change</th>\n",
       "      <th>orientation_X_abs_max</th>\n",
       "      <th>...</th>\n",
       "      <th>ang_av_rate_min</th>\n",
       "      <th>ang_av_rate_max</th>\n",
       "      <th>ang_av_rate_std</th>\n",
       "      <th>ang_av_rate_range</th>\n",
       "      <th>ang_av_rate_max_min_rate</th>\n",
       "      <th>ang_av_rate_mean_abs_change</th>\n",
       "      <th>ang_av_rate_mean_change_of_abs_change</th>\n",
       "      <th>ang_av_rate_abs_max</th>\n",
       "      <th>ang_av_rate_abs_min</th>\n",
       "      <th>ang_av_rate_abs_avg</th>\n",
       "    </tr>\n",
       "    <tr>\n",
       "      <th>series_id</th>\n",
       "      <th></th>\n",
       "      <th></th>\n",
       "      <th></th>\n",
       "      <th></th>\n",
       "      <th></th>\n",
       "      <th></th>\n",
       "      <th></th>\n",
       "      <th></th>\n",
       "      <th></th>\n",
       "      <th></th>\n",
       "      <th></th>\n",
       "      <th></th>\n",
       "      <th></th>\n",
       "      <th></th>\n",
       "      <th></th>\n",
       "      <th></th>\n",
       "      <th></th>\n",
       "      <th></th>\n",
       "      <th></th>\n",
       "      <th></th>\n",
       "      <th></th>\n",
       "    </tr>\n",
       "  </thead>\n",
       "  <tbody>\n",
       "    <tr>\n",
       "      <th>0</th>\n",
       "      <td>-0.758666</td>\n",
       "      <td>-0.758530</td>\n",
       "      <td>-0.75953</td>\n",
       "      <td>-0.75822</td>\n",
       "      <td>0.000363</td>\n",
       "      <td>0.00131</td>\n",
       "      <td>0.998275</td>\n",
       "      <td>0.000015</td>\n",
       "      <td>2.380952e-07</td>\n",
       "      <td>0.75953</td>\n",
       "      <td>...</td>\n",
       "      <td>19.504720</td>\n",
       "      <td>298.761364</td>\n",
       "      <td>44.060971</td>\n",
       "      <td>279.256644</td>\n",
       "      <td>15.317388</td>\n",
       "      <td>37.481365</td>\n",
       "      <td>0.280575</td>\n",
       "      <td>298.761364</td>\n",
       "      <td>19.504720</td>\n",
       "      <td>159.133042</td>\n",
       "    </tr>\n",
       "    <tr>\n",
       "      <th>1</th>\n",
       "      <td>-0.958606</td>\n",
       "      <td>-0.958595</td>\n",
       "      <td>-0.95896</td>\n",
       "      <td>-0.95837</td>\n",
       "      <td>0.000151</td>\n",
       "      <td>0.00059</td>\n",
       "      <td>0.999385</td>\n",
       "      <td>0.000023</td>\n",
       "      <td>-4.761905e-07</td>\n",
       "      <td>0.95896</td>\n",
       "      <td>...</td>\n",
       "      <td>10.012514</td>\n",
       "      <td>142.881670</td>\n",
       "      <td>21.735220</td>\n",
       "      <td>132.869156</td>\n",
       "      <td>14.270310</td>\n",
       "      <td>14.932243</td>\n",
       "      <td>0.040438</td>\n",
       "      <td>142.881670</td>\n",
       "      <td>10.012514</td>\n",
       "      <td>76.447092</td>\n",
       "    </tr>\n",
       "    <tr>\n",
       "      <th>2</th>\n",
       "      <td>-0.512057</td>\n",
       "      <td>-0.512035</td>\n",
       "      <td>-0.51434</td>\n",
       "      <td>-0.50944</td>\n",
       "      <td>0.001377</td>\n",
       "      <td>0.00490</td>\n",
       "      <td>0.990473</td>\n",
       "      <td>0.000041</td>\n",
       "      <td>0.000000e+00</td>\n",
       "      <td>0.51434</td>\n",
       "      <td>...</td>\n",
       "      <td>20.553513</td>\n",
       "      <td>355.472539</td>\n",
       "      <td>47.187945</td>\n",
       "      <td>334.919026</td>\n",
       "      <td>17.294977</td>\n",
       "      <td>29.160415</td>\n",
       "      <td>-0.111356</td>\n",
       "      <td>355.472539</td>\n",
       "      <td>20.553513</td>\n",
       "      <td>188.013026</td>\n",
       "    </tr>\n",
       "    <tr>\n",
       "      <th>3</th>\n",
       "      <td>-0.939169</td>\n",
       "      <td>-0.939170</td>\n",
       "      <td>-0.93968</td>\n",
       "      <td>-0.93884</td>\n",
       "      <td>0.000227</td>\n",
       "      <td>0.00084</td>\n",
       "      <td>0.999106</td>\n",
       "      <td>0.000026</td>\n",
       "      <td>-6.349206e-07</td>\n",
       "      <td>0.93968</td>\n",
       "      <td>...</td>\n",
       "      <td>5.580044</td>\n",
       "      <td>202.142335</td>\n",
       "      <td>30.470678</td>\n",
       "      <td>196.562291</td>\n",
       "      <td>36.225941</td>\n",
       "      <td>19.603943</td>\n",
       "      <td>1.127525</td>\n",
       "      <td>202.142335</td>\n",
       "      <td>5.580044</td>\n",
       "      <td>103.861189</td>\n",
       "    </tr>\n",
       "    <tr>\n",
       "      <th>4</th>\n",
       "      <td>-0.891301</td>\n",
       "      <td>-0.890940</td>\n",
       "      <td>-0.89689</td>\n",
       "      <td>-0.88673</td>\n",
       "      <td>0.002955</td>\n",
       "      <td>0.01016</td>\n",
       "      <td>0.988672</td>\n",
       "      <td>0.000080</td>\n",
       "      <td>7.936508e-08</td>\n",
       "      <td>0.89689</td>\n",
       "      <td>...</td>\n",
       "      <td>12.840288</td>\n",
       "      <td>32.676098</td>\n",
       "      <td>4.770065</td>\n",
       "      <td>19.835810</td>\n",
       "      <td>2.544810</td>\n",
       "      <td>1.225844</td>\n",
       "      <td>-0.003453</td>\n",
       "      <td>32.676098</td>\n",
       "      <td>12.840288</td>\n",
       "      <td>22.758193</td>\n",
       "    </tr>\n",
       "  </tbody>\n",
       "</table>\n",
       "<p>5 rows × 228 columns</p>\n",
       "</div>"
      ],
      "text/plain": [
       "           orientation_X_mean  orientation_X_median  orientation_X_min  \\\n",
       "series_id                                                                \n",
       "0                   -0.758666             -0.758530           -0.75953   \n",
       "1                   -0.958606             -0.958595           -0.95896   \n",
       "2                   -0.512057             -0.512035           -0.51434   \n",
       "3                   -0.939169             -0.939170           -0.93968   \n",
       "4                   -0.891301             -0.890940           -0.89689   \n",
       "\n",
       "           orientation_X_max  orientation_X_std  orientation_X_range  \\\n",
       "series_id                                                              \n",
       "0                   -0.75822           0.000363              0.00131   \n",
       "1                   -0.95837           0.000151              0.00059   \n",
       "2                   -0.50944           0.001377              0.00490   \n",
       "3                   -0.93884           0.000227              0.00084   \n",
       "4                   -0.88673           0.002955              0.01016   \n",
       "\n",
       "           orientation_X_max_min_rate  orientation_X_mean_abs_change  \\\n",
       "series_id                                                              \n",
       "0                            0.998275                       0.000015   \n",
       "1                            0.999385                       0.000023   \n",
       "2                            0.990473                       0.000041   \n",
       "3                            0.999106                       0.000026   \n",
       "4                            0.988672                       0.000080   \n",
       "\n",
       "           orientation_X_mean_change_of_abs_change  orientation_X_abs_max  \\\n",
       "series_id                                                                   \n",
       "0                                     2.380952e-07                0.75953   \n",
       "1                                    -4.761905e-07                0.95896   \n",
       "2                                     0.000000e+00                0.51434   \n",
       "3                                    -6.349206e-07                0.93968   \n",
       "4                                     7.936508e-08                0.89689   \n",
       "\n",
       "                  ...           ang_av_rate_min  ang_av_rate_max  \\\n",
       "series_id         ...                                              \n",
       "0                 ...                 19.504720       298.761364   \n",
       "1                 ...                 10.012514       142.881670   \n",
       "2                 ...                 20.553513       355.472539   \n",
       "3                 ...                  5.580044       202.142335   \n",
       "4                 ...                 12.840288        32.676098   \n",
       "\n",
       "           ang_av_rate_std  ang_av_rate_range  ang_av_rate_max_min_rate  \\\n",
       "series_id                                                                 \n",
       "0                44.060971         279.256644                 15.317388   \n",
       "1                21.735220         132.869156                 14.270310   \n",
       "2                47.187945         334.919026                 17.294977   \n",
       "3                30.470678         196.562291                 36.225941   \n",
       "4                 4.770065          19.835810                  2.544810   \n",
       "\n",
       "           ang_av_rate_mean_abs_change  ang_av_rate_mean_change_of_abs_change  \\\n",
       "series_id                                                                       \n",
       "0                            37.481365                               0.280575   \n",
       "1                            14.932243                               0.040438   \n",
       "2                            29.160415                              -0.111356   \n",
       "3                            19.603943                               1.127525   \n",
       "4                             1.225844                              -0.003453   \n",
       "\n",
       "           ang_av_rate_abs_max  ang_av_rate_abs_min  ang_av_rate_abs_avg  \n",
       "series_id                                                                 \n",
       "0                   298.761364            19.504720           159.133042  \n",
       "1                   142.881670            10.012514            76.447092  \n",
       "2                   355.472539            20.553513           188.013026  \n",
       "3                   202.142335             5.580044           103.861189  \n",
       "4                    32.676098            12.840288            22.758193  \n",
       "\n",
       "[5 rows x 228 columns]"
      ]
     },
     "execution_count": 14,
     "metadata": {},
     "output_type": "execute_result"
    }
   ],
   "source": [
    "X_train.head()"
   ]
  },
  {
   "cell_type": "code",
   "execution_count": 15,
   "metadata": {
    "ExecuteTime": {
     "end_time": "2019-03-31T02:47:08.556620Z",
     "start_time": "2019-03-31T02:47:08.552603Z"
    }
   },
   "outputs": [
    {
     "name": "stdout",
     "output_type": "stream",
     "text": [
      "X_train:  (3810, 228)\n",
      "y_train:  (3810, 3)\n",
      "X_test:  (3816, 228)\n"
     ]
    }
   ],
   "source": [
    "print('X_train: ', X_train.shape)\n",
    "print('y_train: ', y_train.shape)\n",
    "print('X_test: ', X_test.shape)"
   ]
  },
  {
   "cell_type": "markdown",
   "metadata": {},
   "source": [
    "## Model"
   ]
  },
  {
   "cell_type": "code",
   "execution_count": 16,
   "metadata": {
    "ExecuteTime": {
     "end_time": "2019-03-31T02:47:08.934675Z",
     "start_time": "2019-03-31T02:47:08.558690Z"
    }
   },
   "outputs": [],
   "source": [
    "from sklearn.preprocessing import LabelEncoder\n",
    "le = LabelEncoder()\n",
    "y_train['surface'] = le.fit_transform(y_train['surface'])"
   ]
  },
  {
   "cell_type": "code",
   "execution_count": 17,
   "metadata": {
    "ExecuteTime": {
     "end_time": "2019-03-31T02:47:08.968302Z",
     "start_time": "2019-03-31T02:47:08.936915Z"
    }
   },
   "outputs": [],
   "source": [
    "X_train.fillna(0, inplace = True)\n",
    "X_train.replace(-np.inf, 0, inplace = True)\n",
    "X_train.replace(np.inf, 0, inplace = True)\n",
    "X_test.fillna(0, inplace = True)\n",
    "X_test.replace(-np.inf, 0, inplace = True)\n",
    "X_test.replace(np.inf, 0, inplace = True)"
   ]
  },
  {
   "cell_type": "code",
   "execution_count": 18,
   "metadata": {
    "ExecuteTime": {
     "end_time": "2019-03-31T02:47:09.020783Z",
     "start_time": "2019-03-31T02:47:08.970188Z"
    }
   },
   "outputs": [
    {
     "name": "stderr",
     "output_type": "stream",
     "text": [
      "/Library/Frameworks/Python.framework/Versions/3.6/lib/python3.6/site-packages/sklearn/cross_validation.py:41: DeprecationWarning: This module was deprecated in version 0.18 in favor of the model_selection module into which all the refactored classes and functions are moved. Also note that the interface of the new CV iterators are different from that of this module. This module will be removed in 0.20.\n",
      "  \"This module will be removed in 0.20.\", DeprecationWarning)\n",
      "/Library/Frameworks/Python.framework/Versions/3.6/lib/python3.6/site-packages/sklearn/grid_search.py:42: DeprecationWarning: This module was deprecated in version 0.18 in favor of the model_selection module into which all the refactored classes and functions are moved. This module will be removed in 0.20.\n",
      "  DeprecationWarning)\n"
     ]
    }
   ],
   "source": [
    "from xgboost import XGBClassifier\n",
    "from sklearn.ensemble import RandomForestClassifier\n",
    "from sklearn.model_selection import cross_val_score\n",
    "from sklearn.grid_search import GridSearchCV\n",
    "from sklearn.model_selection import KFold, StratifiedKFold"
   ]
  },
  {
   "cell_type": "code",
   "execution_count": 19,
   "metadata": {
    "ExecuteTime": {
     "end_time": "2019-03-31T02:48:30.487973Z",
     "start_time": "2019-03-31T02:47:09.022679Z"
    }
   },
   "outputs": [
    {
     "name": "stdout",
     "output_type": "stream",
     "text": [
      "[0.82245431 0.87058824 0.90288714 0.88684211 0.8996037 ]\n"
     ]
    }
   ],
   "source": [
    "rf_clf = RandomForestClassifier(n_estimators=1200, n_jobs = -1)\n",
    "rf_clf.fit(X_train, y_train['surface'])\n",
    "print(cross_val_score(rf_clf, X_train,  y_train['surface'], cv=5))"
   ]
  },
  {
   "cell_type": "code",
   "execution_count": 20,
   "metadata": {
    "ExecuteTime": {
     "end_time": "2019-03-31T02:48:30.494246Z",
     "start_time": "2019-03-31T02:48:30.490069Z"
    }
   },
   "outputs": [
    {
     "data": {
      "text/plain": [
       "\"param_1 = {'n_estimators': list(range(300, 1001, 100))}\\ngsearch_1 = GridSearchCV(estimator=RandomForestClassifier(),\\n                        param_grid = param_1, cv=5)\\ngsearch_1.fit(X_train, y_train['surface'])\\ngsearch_1.grid_scores_, gsearch_1.best_params_, gsearch_1.best_score_\\n\""
      ]
     },
     "execution_count": 20,
     "metadata": {},
     "output_type": "execute_result"
    }
   ],
   "source": [
    "'''param_1 = {'n_estimators': list(range(300, 1001, 100))}\n",
    "gsearch_1 = GridSearchCV(estimator=RandomForestClassifier(),\n",
    "                        param_grid = param_1, cv=5)\n",
    "gsearch_1.fit(X_train, y_train['surface'])\n",
    "gsearch_1.grid_scores_, gsearch_1.best_params_, gsearch_1.best_score_\n",
    "'''"
   ]
  },
  {
   "cell_type": "code",
   "execution_count": 21,
   "metadata": {
    "ExecuteTime": {
     "end_time": "2019-03-31T02:48:30.503817Z",
     "start_time": "2019-03-31T02:48:30.496689Z"
    }
   },
   "outputs": [],
   "source": [
    "def plot_learning_curve(estimator, title, X, y, ylim=None, cv=None, n_jobs=-1, \n",
    "                       train_sizes=np.linspace(0.05, 1., 20), verbose=0, plot=True):\n",
    "    from sklearn.model_selection import learning_curve\n",
    "    train_sizes, train_scores, test_scores = learning_curve(\n",
    "        estimator, X, y, cv=cv, n_jobs=n_jobs, train_sizes=train_sizes, verbose=verbose)\n",
    "    \n",
    "    train_scores_mean = np.mean(train_scores, axis=1)\n",
    "    train_scores_std = np.std(train_scores, axis=1)\n",
    "    test_scores_mean = np.mean(test_scores, axis=1)\n",
    "    test_scores_std = np.std(test_scores, axis=1)\n",
    "    \n",
    "    plt.figure()\n",
    "    plt.title(title)\n",
    "    if ylim is not None:\n",
    "        plt.ylim(*ylim)\n",
    "    plt.xlabel('Numbers of samples')\n",
    "    plt.ylabel('Score')\n",
    "    plt.gca().invert_yaxis()\n",
    "    plt.grid()\n",
    "    \n",
    "    plt.fill_between(train_sizes, train_scores_mean - train_scores_std, \n",
    "                     train_scores_mean + train_scores_std, alpha=0.1, color='b')\n",
    "    plt.fill_between(train_sizes, test_scores_mean - test_scores_std, \n",
    "                     test_scores_mean + test_scores_std, alpha=0.1, color='r')\n",
    "    plt.plot(train_sizes, train_scores_mean, 'o-', color='b', label='Train Score')\n",
    "    plt.plot(train_sizes, test_scores_mean, 'o-', color='r', label='Test Score')\n",
    "    plt.legend(loc='best')\n",
    "    plt.draw()\n",
    "    plt.gca().invert_yaxis()\n",
    "    plt.show()"
   ]
  },
  {
   "cell_type": "code",
   "execution_count": 22,
   "metadata": {
    "ExecuteTime": {
     "end_time": "2019-03-31T02:48:30.508851Z",
     "start_time": "2019-03-31T02:48:30.506163Z"
    }
   },
   "outputs": [],
   "source": [
    "#plot_learning_curve(rf_clf, 'RF Learning Curve', X_train, y_train['surface'])"
   ]
  },
  {
   "cell_type": "code",
   "execution_count": 23,
   "metadata": {
    "ExecuteTime": {
     "end_time": "2019-03-31T02:48:30.517563Z",
     "start_time": "2019-03-31T02:48:30.511666Z"
    }
   },
   "outputs": [
    {
     "data": {
      "text/plain": [
       "\"\\nfrom sklearn.ensemble import BaggingClassifier\\nbag_xgb = BaggingClassifier(xgb_clf, n_estimators=20, n_jobs=-1, max_samples=0.8,\\n                          max_features=1.0, bootstrap=True, bootstrap_features=False)\\nbag_xgb.fit(X_train, y_train['surface'])\\nprint(cross_val_score(bag_xgb, X_train,  y_train['surface'], cv=5))\\n\""
      ]
     },
     "execution_count": 23,
     "metadata": {},
     "output_type": "execute_result"
    }
   ],
   "source": [
    "'''\n",
    "from sklearn.ensemble import BaggingClassifier\n",
    "bag_xgb = BaggingClassifier(xgb_clf, n_estimators=20, n_jobs=-1, max_samples=0.8,\n",
    "                          max_features=1.0, bootstrap=True, bootstrap_features=False)\n",
    "bag_xgb.fit(X_train, y_train['surface'])\n",
    "print(cross_val_score(bag_xgb, X_train,  y_train['surface'], cv=5))\n",
    "'''"
   ]
  },
  {
   "cell_type": "code",
   "execution_count": 24,
   "metadata": {
    "ExecuteTime": {
     "end_time": "2019-03-31T02:48:30.943522Z",
     "start_time": "2019-03-31T02:48:30.520403Z"
    }
   },
   "outputs": [
    {
     "name": "stderr",
     "output_type": "stream",
     "text": [
      "/Library/Frameworks/Python.framework/Versions/3.6/lib/python3.6/site-packages/sklearn/preprocessing/label.py:151: DeprecationWarning: The truth value of an empty array is ambiguous. Returning False, but in future this will result in an error. Use `array.size > 0` to check that an array is not empty.\n",
      "  if diff:\n"
     ]
    }
   ],
   "source": [
    "predictions = rf_clf.predict(X_test)\n",
    "submission = le.inverse_transform(predictions)"
   ]
  },
  {
   "cell_type": "code",
   "execution_count": 25,
   "metadata": {
    "ExecuteTime": {
     "end_time": "2019-03-31T02:48:30.961947Z",
     "start_time": "2019-03-31T02:48:30.945402Z"
    }
   },
   "outputs": [],
   "source": [
    "ans = pd.DataFrame({'series_id': [i for i in range(0, 3816)],\n",
    "                    'surface': submission})\n",
    "ans.to_csv('/Users/savage/Kaggle/robots/ans/rf_1200.csv', index=False)"
   ]
  },
  {
   "cell_type": "code",
   "execution_count": null,
   "metadata": {},
   "outputs": [],
   "source": []
  },
  {
   "cell_type": "code",
   "execution_count": null,
   "metadata": {},
   "outputs": [],
   "source": []
  },
  {
   "cell_type": "code",
   "execution_count": null,
   "metadata": {},
   "outputs": [],
   "source": []
  },
  {
   "cell_type": "code",
   "execution_count": null,
   "metadata": {},
   "outputs": [],
   "source": []
  },
  {
   "cell_type": "code",
   "execution_count": null,
   "metadata": {},
   "outputs": [],
   "source": []
  },
  {
   "cell_type": "code",
   "execution_count": null,
   "metadata": {},
   "outputs": [],
   "source": []
  },
  {
   "cell_type": "code",
   "execution_count": null,
   "metadata": {},
   "outputs": [],
   "source": []
  },
  {
   "cell_type": "code",
   "execution_count": null,
   "metadata": {},
   "outputs": [],
   "source": []
  },
  {
   "cell_type": "code",
   "execution_count": null,
   "metadata": {},
   "outputs": [],
   "source": []
  },
  {
   "cell_type": "code",
   "execution_count": null,
   "metadata": {},
   "outputs": [],
   "source": []
  },
  {
   "cell_type": "code",
   "execution_count": null,
   "metadata": {},
   "outputs": [],
   "source": []
  },
  {
   "cell_type": "code",
   "execution_count": null,
   "metadata": {},
   "outputs": [],
   "source": []
  },
  {
   "cell_type": "code",
   "execution_count": null,
   "metadata": {},
   "outputs": [],
   "source": []
  },
  {
   "cell_type": "code",
   "execution_count": null,
   "metadata": {},
   "outputs": [],
   "source": []
  },
  {
   "cell_type": "code",
   "execution_count": null,
   "metadata": {},
   "outputs": [],
   "source": []
  },
  {
   "cell_type": "code",
   "execution_count": null,
   "metadata": {},
   "outputs": [],
   "source": []
  }
 ],
 "metadata": {
  "kernelspec": {
   "display_name": "Python 3",
   "language": "python",
   "name": "python3"
  },
  "language_info": {
   "codemirror_mode": {
    "name": "ipython",
    "version": 3
   },
   "file_extension": ".py",
   "mimetype": "text/x-python",
   "name": "python",
   "nbconvert_exporter": "python",
   "pygments_lexer": "ipython3",
   "version": "3.6.6"
  },
  "toc": {
   "base_numbering": 1,
   "nav_menu": {},
   "number_sections": true,
   "sideBar": true,
   "skip_h1_title": false,
   "title_cell": "Table of Contents",
   "title_sidebar": "Contents",
   "toc_cell": false,
   "toc_position": {},
   "toc_section_display": true,
   "toc_window_display": false
  },
  "varInspector": {
   "cols": {
    "lenName": 16,
    "lenType": 16,
    "lenVar": 40
   },
   "kernels_config": {
    "python": {
     "delete_cmd_postfix": "",
     "delete_cmd_prefix": "del ",
     "library": "var_list.py",
     "varRefreshCmd": "print(var_dic_list())"
    },
    "r": {
     "delete_cmd_postfix": ") ",
     "delete_cmd_prefix": "rm(",
     "library": "var_list.r",
     "varRefreshCmd": "cat(var_dic_list()) "
    }
   },
   "types_to_exclude": [
    "module",
    "function",
    "builtin_function_or_method",
    "instance",
    "_Feature"
   ],
   "window_display": false
  }
 },
 "nbformat": 4,
 "nbformat_minor": 2
}
